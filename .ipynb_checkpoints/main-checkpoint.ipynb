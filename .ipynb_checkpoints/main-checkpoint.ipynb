{
 "cells": [
  {
   "cell_type": "code",
   "execution_count": 1,
   "metadata": {},
   "outputs": [],
   "source": [
    "import tensorflow as tf\n",
    "import numpy as np\n",
    "import pandas as pd"
   ]
  },
  {
   "cell_type": "code",
   "execution_count": null,
   "metadata": {},
   "outputs": [],
   "source": []
  },
  {
   "cell_type": "code",
   "execution_count": 28,
   "metadata": {},
   "outputs": [
    {
     "name": "stdout",
     "output_type": "stream",
     "text": [
      "       var1(t-12)  var2(t-12)  var3(t-12)  var4(t-12)  var5(t-12)  var6(t-12)  \\\n",
      "0             799      1442.0       658.0        76.0         0.0        36.0   \n",
      "1             894       903.0       458.0        76.0         0.0        36.0   \n",
      "2             760       397.0       190.0        76.0         0.0        36.0   \n",
      "3             669       312.0       147.0        76.0         0.0        36.0   \n",
      "4             665       299.0       124.0        76.0         0.0        36.0   \n",
      "...           ...         ...         ...         ...         ...         ...   \n",
      "31374         261       260.0       114.0       218.0         0.0       170.0   \n",
      "31375         395       420.0       170.0       218.0         0.0       170.0   \n",
      "31376         459       590.0       228.0       218.0         0.0       170.0   \n",
      "31377         631       696.0       305.0       218.0         0.0       170.0   \n",
      "31378         743       852.0       353.0       218.0         0.0       170.0   \n",
      "\n",
      "       var7(t-12) var8(t-12)  hour(t)  obj  \n",
      "0           116.0    festivo       13  468  \n",
      "1           116.0    festivo       14  201  \n",
      "2           116.0    festivo       15  243  \n",
      "3           116.0    festivo       16  349  \n",
      "4           116.0    festivo       17  430  \n",
      "...           ...        ...      ...  ...  \n",
      "31374       265.0     sábado       19  347  \n",
      "31375       265.0     sábado       20  311  \n",
      "31376       265.0     sábado       21  216  \n",
      "31377       265.0     sábado       22  182  \n",
      "31378       265.0     sábado       23  164  \n",
      "\n",
      "[31379 rows x 10 columns]\n",
      "0        2018-01-01 13:00:00\n",
      "1        2018-01-01 14:00:00\n",
      "2        2018-01-01 15:00:00\n",
      "3        2018-01-01 16:00:00\n",
      "4        2018-01-01 17:00:00\n",
      "                ...         \n",
      "31374    2021-07-31 19:00:00\n",
      "31375    2021-07-31 20:00:00\n",
      "31376    2021-07-31 21:00:00\n",
      "31377    2021-07-31 22:00:00\n",
      "31378    2021-07-31 23:00:00\n",
      "Name: clave, Length: 31379, dtype: object\n"
     ]
    }
   ],
   "source": [
    "df=pd.read_csv(\"Datasets/AS2(t-12).csv\")\n",
    "data=df[\"clave\"]\n",
    "df.drop(columns=[\"clave\"],axis=1,inplace=True)\n",
    "df['hour(t)']=list(np.arange(13,24))+list(np.arange(0,24))*1307\n",
    "df=df.reindex(columns=['var1(t-12)','var2(t-12)','var3(t-12)','var4(t-12)','var5(t-12)','var6(t-12)','var7(t-12)','var8(t-12)','hour(t)','obj'])\n",
    "\n",
    "print(df)\n",
    "print(data)"
   ]
  },
  {
   "cell_type": "code",
   "execution_count": null,
   "metadata": {},
   "outputs": [],
   "source": [
    "from sklearn.preprocessing import LabelEncoder\n",
    "le=LabelEncoder();\n",
    "le.fit(df[])"
   ]
  },
  {
   "cell_type": "code",
   "execution_count": null,
   "metadata": {},
   "outputs": [],
   "source": []
  },
  {
   "cell_type": "code",
   "execution_count": null,
   "metadata": {},
   "outputs": [],
   "source": []
  }
 ],
 "metadata": {
  "kernelspec": {
   "display_name": "Python 3 (ipykernel)",
   "language": "python",
   "name": "python3"
  },
  "language_info": {
   "codemirror_mode": {
    "name": "ipython",
    "version": 3
   },
   "file_extension": ".py",
   "mimetype": "text/x-python",
   "name": "python",
   "nbconvert_exporter": "python",
   "pygments_lexer": "ipython3",
   "version": "3.10.11"
  }
 },
 "nbformat": 4,
 "nbformat_minor": 4
}
