{
 "cells": [
  {
   "cell_type": "code",
   "execution_count": 1,
   "metadata": {},
   "outputs": [],
   "source": [
    "import tensorflow as tf\n",
    "import numpy as np\n",
    "import pandas as pd"
   ]
  },
  {
   "cell_type": "markdown",
   "metadata": {},
   "source": [
    "## data preprocessing"
   ]
  },
  {
   "cell_type": "code",
   "execution_count": 2,
   "metadata": {},
   "outputs": [
    {
     "name": "stdout",
     "output_type": "stream",
     "text": [
      "       var1(t-12)  var2(t-12)  var3(t-12)  var4(t-12)  var5(t-12)  var6(t-12)  \\\n",
      "0             799      1442.0       658.0        76.0         0.0        36.0   \n",
      "1             894       903.0       458.0        76.0         0.0        36.0   \n",
      "2             760       397.0       190.0        76.0         0.0        36.0   \n",
      "3             669       312.0       147.0        76.0         0.0        36.0   \n",
      "4             665       299.0       124.0        76.0         0.0        36.0   \n",
      "...           ...         ...         ...         ...         ...         ...   \n",
      "31374         261       260.0       114.0       218.0         0.0       170.0   \n",
      "31375         395       420.0       170.0       218.0         0.0       170.0   \n",
      "31376         459       590.0       228.0       218.0         0.0       170.0   \n",
      "31377         631       696.0       305.0       218.0         0.0       170.0   \n",
      "31378         743       852.0       353.0       218.0         0.0       170.0   \n",
      "\n",
      "       var7(t-12) var8(t-12)  hour(t)  obj  \n",
      "0           116.0    festivo       13  468  \n",
      "1           116.0    festivo       14  201  \n",
      "2           116.0    festivo       15  243  \n",
      "3           116.0    festivo       16  349  \n",
      "4           116.0    festivo       17  430  \n",
      "...           ...        ...      ...  ...  \n",
      "31374       265.0     sábado       19  347  \n",
      "31375       265.0     sábado       20  311  \n",
      "31376       265.0     sábado       21  216  \n",
      "31377       265.0     sábado       22  182  \n",
      "31378       265.0     sábado       23  164  \n",
      "\n",
      "[31379 rows x 10 columns]\n",
      "0        2018-01-01 13:00:00\n",
      "1        2018-01-01 14:00:00\n",
      "2        2018-01-01 15:00:00\n",
      "3        2018-01-01 16:00:00\n",
      "4        2018-01-01 17:00:00\n",
      "                ...         \n",
      "31374    2021-07-31 19:00:00\n",
      "31375    2021-07-31 20:00:00\n",
      "31376    2021-07-31 21:00:00\n",
      "31377    2021-07-31 22:00:00\n",
      "31378    2021-07-31 23:00:00\n",
      "Name: clave, Length: 31379, dtype: object\n"
     ]
    }
   ],
   "source": [
    "df=pd.read_csv(\"Datasets/AS2(t-12).csv\")\n",
    "data=df[\"clave\"]\n",
    "df.drop(columns=[\"clave\"],axis=1,inplace=True)\n",
    "df['hour(t)']=list(np.arange(13,24))+list(np.arange(0,24))*1307\n",
    "df=df.reindex(columns=['var1(t-12)','var2(t-12)','var3(t-12)','var4(t-12)','var5(t-12)','var6(t-12)','var7(t-12)','var8(t-12)','hour(t)','obj'])\n",
    "\n",
    "print(df)\n",
    "print(data)"
   ]
  },
  {
   "cell_type": "code",
   "execution_count": 3,
   "metadata": {},
   "outputs": [
    {
     "name": "stdout",
     "output_type": "stream",
     "text": [
      "       var1(t-12)  var2(t-12)  var3(t-12)  var4(t-12)  var5(t-12)  var6(t-12)  \\\n",
      "0             799      1442.0       658.0        76.0         0.0        36.0   \n",
      "1             894       903.0       458.0        76.0         0.0        36.0   \n",
      "2             760       397.0       190.0        76.0         0.0        36.0   \n",
      "3             669       312.0       147.0        76.0         0.0        36.0   \n",
      "4             665       299.0       124.0        76.0         0.0        36.0   \n",
      "...           ...         ...         ...         ...         ...         ...   \n",
      "31374         261       260.0       114.0       218.0         0.0       170.0   \n",
      "31375         395       420.0       170.0       218.0         0.0       170.0   \n",
      "31376         459       590.0       228.0       218.0         0.0       170.0   \n",
      "31377         631       696.0       305.0       218.0         0.0       170.0   \n",
      "31378         743       852.0       353.0       218.0         0.0       170.0   \n",
      "\n",
      "       var7(t-12)  var8(t-12)  hour(t)  obj  \n",
      "0           116.0           1       13  468  \n",
      "1           116.0           1       14  201  \n",
      "2           116.0           1       15  243  \n",
      "3           116.0           1       16  349  \n",
      "4           116.0           1       17  430  \n",
      "...           ...         ...      ...  ...  \n",
      "31374       265.0           3       19  347  \n",
      "31375       265.0           3       20  311  \n",
      "31376       265.0           3       21  216  \n",
      "31377       265.0           3       22  182  \n",
      "31378       265.0           3       23  164  \n",
      "\n",
      "[31379 rows x 10 columns]\n"
     ]
    }
   ],
   "source": [
    "from sklearn.preprocessing import LabelEncoder\n",
    "le=LabelEncoder()\n",
    "df['var8(t-12)']=le.fit_transform(df['var8(t-12)'])\n",
    "# le.transform(df['var8(t-12)'])\n",
    "print(df)"
   ]
  },
  {
   "cell_type": "code",
   "execution_count": 4,
   "metadata": {},
   "outputs": [],
   "source": [
    "def slicing_data(data,rows):\n",
    "    x=list()\n",
    "    y=list()\n",
    "    for i in np.arange(rows-1,len(data)):\n",
    "        y.append(data.iloc[i][-1])\n",
    "        x.append([data.iloc[i-3][:-1],data.iloc[i-2][:-1],data.iloc[i-1][:-1],data.iloc[i][:-1]])\n",
    "    \n",
    "    return np.array(x).astype('float32'),np.array(y).astype('float32')\n"
   ]
  },
  {
   "cell_type": "code",
   "execution_count": 5,
   "metadata": {},
   "outputs": [],
   "source": [
    "from sklearn.preprocessing import MinMaxScaler\n",
    "from sklearn.model_selection import  train_test_split\n"
   ]
  },
  {
   "cell_type": "code",
   "execution_count": 6,
   "metadata": {},
   "outputs": [],
   "source": [
    "\n",
    "scaler=MinMaxScaler()\n",
    "df[df.columns.difference(['obj'])]=scaler.fit_transform(df[df.columns.difference(['obj'])])"
   ]
  },
  {
   "cell_type": "code",
   "execution_count": 7,
   "metadata": {},
   "outputs": [
    {
     "name": "stdout",
     "output_type": "stream",
     "text": [
      "[[[0.08009199 0.33433804 0.22783934 ... 0.27970296 0.33333334 0.5652174 ]\n",
      "  [0.08959104 0.20936704 0.15858726 ... 0.27970296 0.33333334 0.6086956 ]\n",
      "  [0.07619238 0.0920473  0.06578948 ... 0.27970296 0.33333334 0.65217394]\n",
      "  [0.06709329 0.07233944 0.05090028 ... 0.27970296 0.33333334 0.6956522 ]]\n",
      "\n",
      " [[0.08959104 0.20936704 0.15858726 ... 0.27970296 0.33333334 0.6086956 ]\n",
      "  [0.07619238 0.0920473  0.06578948 ... 0.27970296 0.33333334 0.65217394]\n",
      "  [0.06709329 0.07233944 0.05090028 ... 0.27970296 0.33333334 0.6956522 ]\n",
      "  [0.06669333 0.0693253  0.04293629 ... 0.27970296 0.33333334 0.73913044]]\n",
      "\n",
      " [[0.07619238 0.0920473  0.06578948 ... 0.27970296 0.33333334 0.65217394]\n",
      "  [0.06709329 0.07233944 0.05090028 ... 0.27970296 0.33333334 0.6956522 ]\n",
      "  [0.06669333 0.0693253  0.04293629 ... 0.27970296 0.33333334 0.73913044]\n",
      "  [0.05339466 0.0839323  0.04466759 ... 0.27970296 0.33333334 0.7826087 ]]\n",
      "\n",
      " ...\n",
      "\n",
      " [[0.02489751 0.03825643 0.02285319 ... 0.64851487 1.         0.7826087 ]\n",
      "  [0.02629737 0.06028287 0.03947368 ... 0.64851487 1.         0.82608694]\n",
      "  [0.03969603 0.09738001 0.05886427 ... 0.64851487 1.         0.8695652 ]\n",
      "  [0.04609539 0.13679573 0.07894737 ... 0.64851487 1.         0.9130435 ]]\n",
      "\n",
      " [[0.02629737 0.06028287 0.03947368 ... 0.64851487 1.         0.82608694]\n",
      "  [0.03969603 0.09738001 0.05886427 ... 0.64851487 1.         0.8695652 ]\n",
      "  [0.04609539 0.13679573 0.07894737 ... 0.64851487 1.         0.9130435 ]\n",
      "  [0.06329367 0.16137259 0.10560942 ... 0.64851487 1.         0.95652175]]\n",
      "\n",
      " [[0.03969603 0.09738001 0.05886427 ... 0.64851487 1.         0.8695652 ]\n",
      "  [0.04609539 0.13679573 0.07894737 ... 0.64851487 1.         0.9130435 ]\n",
      "  [0.06329367 0.16137259 0.10560942 ... 0.64851487 1.         0.95652175]\n",
      "  [0.07449255 0.19754231 0.12222992 ... 0.64851487 1.         1.        ]]]\n",
      "[349. 430. 591. ... 216. 182. 164.]\n"
     ]
    }
   ],
   "source": [
    "x,y=slicing_data(df,4)\n",
    "print(x)\n",
    "print(y)"
   ]
  },
  {
   "cell_type": "code",
   "execution_count": 8,
   "metadata": {},
   "outputs": [
    {
     "name": "stdout",
     "output_type": "stream",
     "text": [
      "(4, 9)\n",
      "(31376,)\n"
     ]
    }
   ],
   "source": [
    "print(x[0].shape)\n",
    "print(y.shape)"
   ]
  },
  {
   "cell_type": "code",
   "execution_count": 49,
   "metadata": {},
   "outputs": [],
   "source": [
    "X_train,X_test,y_train,y_test=train_test_split(x,y,test_size=0.333,random_state=101)"
   ]
  },
  {
   "cell_type": "code",
   "execution_count": 51,
   "metadata": {},
   "outputs": [
    {
     "data": {
      "text/plain": [
       "(10449,)"
      ]
     },
     "execution_count": 51,
     "metadata": {},
     "output_type": "execute_result"
    }
   ],
   "source": [
    " y_test.shape"
   ]
  },
  {
   "cell_type": "code",
   "execution_count": 43,
   "metadata": {},
   "outputs": [],
   "source": [
    "import tensorflow.keras.layers as layers"
   ]
  },
  {
   "cell_type": "code",
   "execution_count": 44,
   "metadata": {},
   "outputs": [],
   "source": [
    "input_layer=layers.Input(shape=(4,9,1))\n",
    "layer_1=layers.TimeDistributed(layers.Conv1D(filters=256,kernel_size=2,activation=\"relu\"))(input_layer)\n",
    "layer_2=layers.TimeDistributed(layers.MaxPool1D(pool_size=2, padding='same'))(layer_1)\n",
    "layer_3=layers.TimeDistributed(layers.Flatten())(layer_2)\n",
    "layer_4=layers.Dropout(0.5)(layer_3)\n",
    "layer_5=layers.Bidirectional(layers.LSTM(500, activation = 'relu'))(layer_4)\n",
    "output_layer=layers.Dense(1)(layer_5)\n",
    "model_1=tf.keras.Model(inputs=input_layer,outputs=output_layer)\n"
   ]
  },
  {
   "cell_type": "code",
   "execution_count": 45,
   "metadata": {},
   "outputs": [
    {
     "name": "stdout",
     "output_type": "stream",
     "text": [
      "Model: \"model_3\"\n",
      "_________________________________________________________________\n",
      " Layer (type)                Output Shape              Param #   \n",
      "=================================================================\n",
      " input_9 (InputLayer)        [(None, 4, 9, 1)]         0         \n",
      "                                                                 \n",
      " time_distributed_28 (TimeD  (None, 4, 8, 256)         768       \n",
      " istributed)                                                     \n",
      "                                                                 \n",
      " time_distributed_29 (TimeD  (None, 4, 4, 256)         0         \n",
      " istributed)                                                     \n",
      "                                                                 \n",
      " time_distributed_30 (TimeD  (None, 4, 1024)           0         \n",
      " istributed)                                                     \n",
      "                                                                 \n",
      " dropout_6 (Dropout)         (None, 4, 1024)           0         \n",
      "                                                                 \n",
      " bidirectional_6 (Bidirecti  (None, 1000)              6100000   \n",
      " onal)                                                           \n",
      "                                                                 \n",
      " dense_6 (Dense)             (None, 1)                 1001      \n",
      "                                                                 \n",
      "=================================================================\n",
      "Total params: 6101769 (23.28 MB)\n",
      "Trainable params: 6101769 (23.28 MB)\n",
      "Non-trainable params: 0 (0.00 Byte)\n",
      "_________________________________________________________________\n"
     ]
    }
   ],
   "source": [
    "model_1.summary()"
   ]
  },
  {
   "cell_type": "code",
   "execution_count": null,
   "metadata": {},
   "outputs": [],
   "source": [
    "model_1.compile(optimizer='adam',loss='mae',metrics=['mae','rmae',tf.keras.metrics.Accuracy()])\n",
    "history_1=model_1.fit(X_train,y_train,epochs=100,batch_size = 32, shuffle=True,validation_data=(X_test,y_test))"
   ]
  },
  {
   "cell_type": "code",
   "execution_count": null,
   "metadata": {},
   "outputs": [],
   "source": []
  }
 ],
 "metadata": {
  "kernelspec": {
   "display_name": "Python 3 (ipykernel)",
   "language": "python",
   "name": "python3"
  },
  "language_info": {
   "codemirror_mode": {
    "name": "ipython",
    "version": 3
   },
   "file_extension": ".py",
   "mimetype": "text/x-python",
   "name": "python",
   "nbconvert_exporter": "python",
   "pygments_lexer": "ipython3",
   "version": "3.10.11"
  }
 },
 "nbformat": 4,
 "nbformat_minor": 4
}
