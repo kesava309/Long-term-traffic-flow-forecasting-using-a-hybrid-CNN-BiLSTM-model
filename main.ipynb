{
 "cells": [
  {
   "cell_type": "code",
   "execution_count": 3,
   "metadata": {},
   "outputs": [],
   "source": [
    "import tensorflow as tf\n",
    "import numpy as np\n",
    "import pandas as pd"
   ]
  },
  {
   "cell_type": "markdown",
   "metadata": {},
   "source": [
    "## data preprocessing"
   ]
  },
  {
   "cell_type": "code",
   "execution_count": 4,
   "metadata": {},
   "outputs": [
    {
     "name": "stdout",
     "output_type": "stream",
     "text": [
      "       var1(t-12)  var2(t-12)  var3(t-12)  var4(t-12)  var5(t-12)  var6(t-12)  \\\n",
      "0             799      1442.0       658.0        76.0         0.0        36.0   \n",
      "1             894       903.0       458.0        76.0         0.0        36.0   \n",
      "2             760       397.0       190.0        76.0         0.0        36.0   \n",
      "3             669       312.0       147.0        76.0         0.0        36.0   \n",
      "4             665       299.0       124.0        76.0         0.0        36.0   \n",
      "...           ...         ...         ...         ...         ...         ...   \n",
      "31374         261       260.0       114.0       218.0         0.0       170.0   \n",
      "31375         395       420.0       170.0       218.0         0.0       170.0   \n",
      "31376         459       590.0       228.0       218.0         0.0       170.0   \n",
      "31377         631       696.0       305.0       218.0         0.0       170.0   \n",
      "31378         743       852.0       353.0       218.0         0.0       170.0   \n",
      "\n",
      "       var7(t-12) var8(t-12)  hour(t)  obj  \n",
      "0           116.0    festivo       13  468  \n",
      "1           116.0    festivo       14  201  \n",
      "2           116.0    festivo       15  243  \n",
      "3           116.0    festivo       16  349  \n",
      "4           116.0    festivo       17  430  \n",
      "...           ...        ...      ...  ...  \n",
      "31374       265.0     sábado       19  347  \n",
      "31375       265.0     sábado       20  311  \n",
      "31376       265.0     sábado       21  216  \n",
      "31377       265.0     sábado       22  182  \n",
      "31378       265.0     sábado       23  164  \n",
      "\n",
      "[31379 rows x 10 columns]\n",
      "0        2018-01-01 13:00:00\n",
      "1        2018-01-01 14:00:00\n",
      "2        2018-01-01 15:00:00\n",
      "3        2018-01-01 16:00:00\n",
      "4        2018-01-01 17:00:00\n",
      "                ...         \n",
      "31374    2021-07-31 19:00:00\n",
      "31375    2021-07-31 20:00:00\n",
      "31376    2021-07-31 21:00:00\n",
      "31377    2021-07-31 22:00:00\n",
      "31378    2021-07-31 23:00:00\n",
      "Name: clave, Length: 31379, dtype: object\n"
     ]
    }
   ],
   "source": [
    "df=pd.read_csv(\"Datasets/AS2(t-12).csv\")\n",
    "data=df[\"clave\"]\n",
    "df.drop(columns=[\"clave\"],axis=1,inplace=True)\n",
    "df['hour(t)']=list(np.arange(13,24))+list(np.arange(0,24))*1307\n",
    "df=df.reindex(columns=['var1(t-12)','var2(t-12)','var3(t-12)','var4(t-12)','var5(t-12)','var6(t-12)','var7(t-12)','var8(t-12)','hour(t)','obj'])\n",
    "\n",
    "print(df)\n",
    "print(data)"
   ]
  },
  {
   "cell_type": "code",
   "execution_count": 5,
   "metadata": {},
   "outputs": [
    {
     "name": "stdout",
     "output_type": "stream",
     "text": [
      "       var1(t-12)  var2(t-12)  var3(t-12)  var4(t-12)  var5(t-12)  var6(t-12)  \\\n",
      "0             799      1442.0       658.0        76.0         0.0        36.0   \n",
      "1             894       903.0       458.0        76.0         0.0        36.0   \n",
      "2             760       397.0       190.0        76.0         0.0        36.0   \n",
      "3             669       312.0       147.0        76.0         0.0        36.0   \n",
      "4             665       299.0       124.0        76.0         0.0        36.0   \n",
      "...           ...         ...         ...         ...         ...         ...   \n",
      "31374         261       260.0       114.0       218.0         0.0       170.0   \n",
      "31375         395       420.0       170.0       218.0         0.0       170.0   \n",
      "31376         459       590.0       228.0       218.0         0.0       170.0   \n",
      "31377         631       696.0       305.0       218.0         0.0       170.0   \n",
      "31378         743       852.0       353.0       218.0         0.0       170.0   \n",
      "\n",
      "       var7(t-12)  var8(t-12)  hour(t)  obj  \n",
      "0           116.0           1       13  468  \n",
      "1           116.0           1       14  201  \n",
      "2           116.0           1       15  243  \n",
      "3           116.0           1       16  349  \n",
      "4           116.0           1       17  430  \n",
      "...           ...         ...      ...  ...  \n",
      "31374       265.0           3       19  347  \n",
      "31375       265.0           3       20  311  \n",
      "31376       265.0           3       21  216  \n",
      "31377       265.0           3       22  182  \n",
      "31378       265.0           3       23  164  \n",
      "\n",
      "[31379 rows x 10 columns]\n"
     ]
    }
   ],
   "source": [
    "from sklearn.preprocessing import LabelEncoder\n",
    "le=LabelEncoder()\n",
    "df['var8(t-12)']=le.fit_transform(df['var8(t-12)'])\n",
    "# le.transform(df['var8(t-12)'])\n",
    "print(df)"
   ]
  },
  {
   "cell_type": "code",
   "execution_count": 26,
   "metadata": {},
   "outputs": [],
   "source": [
    "def slicing_data(data,rows):\n",
    "    x=list()\n",
    "    y=list()\n",
    "    for i in np.arange(rows-1,len(data)):\n",
    "        y.append(data.iloc[i][-1])\n",
    "        x.append([data.iloc[i-3][:-1],data.iloc[i-2][:-1],data.iloc[i-1][:-1],data.iloc[i][:-1]])\n",
    "    \n",
    "    return np.array(x),np.array(y)\n"
   ]
  },
  {
   "cell_type": "code",
   "execution_count": 27,
   "metadata": {},
   "outputs": [
    {
     "name": "stdout",
     "output_type": "stream",
     "text": [
      "[[[7.990e+02 1.442e+03 6.580e+02 ... 1.160e+02 1.000e+00 1.300e+01]\n",
      "  [8.940e+02 9.030e+02 4.580e+02 ... 1.160e+02 1.000e+00 1.400e+01]\n",
      "  [7.600e+02 3.970e+02 1.900e+02 ... 1.160e+02 1.000e+00 1.500e+01]\n",
      "  [6.690e+02 3.120e+02 1.470e+02 ... 1.160e+02 1.000e+00 1.600e+01]]\n",
      "\n",
      " [[8.940e+02 9.030e+02 4.580e+02 ... 1.160e+02 1.000e+00 1.400e+01]\n",
      "  [7.600e+02 3.970e+02 1.900e+02 ... 1.160e+02 1.000e+00 1.500e+01]\n",
      "  [6.690e+02 3.120e+02 1.470e+02 ... 1.160e+02 1.000e+00 1.600e+01]\n",
      "  [6.650e+02 2.990e+02 1.240e+02 ... 1.160e+02 1.000e+00 1.700e+01]]\n",
      "\n",
      " [[7.600e+02 3.970e+02 1.900e+02 ... 1.160e+02 1.000e+00 1.500e+01]\n",
      "  [6.690e+02 3.120e+02 1.470e+02 ... 1.160e+02 1.000e+00 1.600e+01]\n",
      "  [6.650e+02 2.990e+02 1.240e+02 ... 1.160e+02 1.000e+00 1.700e+01]\n",
      "  [5.320e+02 3.620e+02 1.290e+02 ... 1.160e+02 1.000e+00 1.800e+01]]\n",
      "\n",
      " ...\n",
      "\n",
      " [[2.470e+02 1.650e+02 6.600e+01 ... 2.650e+02 3.000e+00 1.800e+01]\n",
      "  [2.610e+02 2.600e+02 1.140e+02 ... 2.650e+02 3.000e+00 1.900e+01]\n",
      "  [3.950e+02 4.200e+02 1.700e+02 ... 2.650e+02 3.000e+00 2.000e+01]\n",
      "  [4.590e+02 5.900e+02 2.280e+02 ... 2.650e+02 3.000e+00 2.100e+01]]\n",
      "\n",
      " [[2.610e+02 2.600e+02 1.140e+02 ... 2.650e+02 3.000e+00 1.900e+01]\n",
      "  [3.950e+02 4.200e+02 1.700e+02 ... 2.650e+02 3.000e+00 2.000e+01]\n",
      "  [4.590e+02 5.900e+02 2.280e+02 ... 2.650e+02 3.000e+00 2.100e+01]\n",
      "  [6.310e+02 6.960e+02 3.050e+02 ... 2.650e+02 3.000e+00 2.200e+01]]\n",
      "\n",
      " [[3.950e+02 4.200e+02 1.700e+02 ... 2.650e+02 3.000e+00 2.000e+01]\n",
      "  [4.590e+02 5.900e+02 2.280e+02 ... 2.650e+02 3.000e+00 2.100e+01]\n",
      "  [6.310e+02 6.960e+02 3.050e+02 ... 2.650e+02 3.000e+00 2.200e+01]\n",
      "  [7.430e+02 8.520e+02 3.530e+02 ... 2.650e+02 3.000e+00 2.300e+01]]]\n",
      "[349. 430. 591. ... 216. 182. 164.]\n"
     ]
    }
   ],
   "source": [
    "x,y=slicing_data(df,4)\n",
    "print(x)\n",
    "print(y)"
   ]
  },
  {
   "cell_type": "code",
   "execution_count": 33,
   "metadata": {},
   "outputs": [
    {
     "name": "stdout",
     "output_type": "stream",
     "text": [
      "(31376, 4, 9)\n",
      "(31376,)\n"
     ]
    }
   ],
   "source": [
    "print(x.shape)\n",
    "print(y.shape)"
   ]
  },
  {
   "cell_type": "code",
   "execution_count": null,
   "metadata": {},
   "outputs": [],
   "source": []
  }
 ],
 "metadata": {
  "kernelspec": {
   "display_name": "Python 3 (ipykernel)",
   "language": "python",
   "name": "python3"
  },
  "language_info": {
   "codemirror_mode": {
    "name": "ipython",
    "version": 3
   },
   "file_extension": ".py",
   "mimetype": "text/x-python",
   "name": "python",
   "nbconvert_exporter": "python",
   "pygments_lexer": "ipython3",
   "version": "3.10.11"
  }
 },
 "nbformat": 4,
 "nbformat_minor": 4
}
